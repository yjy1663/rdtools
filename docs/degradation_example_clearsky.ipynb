{
 "cells": [
  {
   "cell_type": "markdown",
   "metadata": {},
   "source": [
    "# Degradation example with clearsky workflow\n",
    "\n",
    "\n",
    "This juypter notebook is intended to test the degradation analysis workflow.  In addition, the notebook demonstrates the effects of changes in the workflow.\n",
    "\n",
    "Degradation analysis of PV systems includes several steps:\n",
    "1. <b>Standardize</b> data inputs\n",
    "2. <b>Normalize</b> data using a performance metric\n",
    "3. <b>Filter</b> data that creates bias \n",
    "4. <b>Analyze</b> aggregated data to estimate the degradation rate\n",
    "\n"
   ]
  },
  {
   "cell_type": "code",
   "execution_count": null,
   "metadata": {
    "collapsed": false
   },
   "outputs": [],
   "source": [
    "from datetime import timedelta\n",
    "import pandas as pd\n",
    "import matplotlib.pyplot as plt\n",
    "import numpy as np\n",
    "import pvlib\n",
    "%matplotlib inline\n",
    "\n",
    "#Update the style of plots\n",
    "import matplotlib\n",
    "matplotlib.rcParams.update({'font.size': 12,\n",
    "                           'figure.figsize': [4.5, 3],\n",
    "                           'lines.markeredgewidth': 0,\n",
    "                           'lines.markersize': 2\n",
    "                           })\n",
    "\n",
    "import rdtools"
   ]
  },
  {
   "cell_type": "markdown",
   "metadata": {},
   "source": [
    "# 0. <b>PV System Metadata</b>\n",
    "\n",
    "Collect data for the PV system under investigation."
   ]
  },
  {
   "cell_type": "code",
   "execution_count": null,
   "metadata": {
    "collapsed": true
   },
   "outputs": [],
   "source": [
    "# Metadata\n",
    "\n",
    "meta = {\"altitude\":0,\n",
    "        \"latitude\": -23.762028,\n",
    "        \"longitude\": 133.874886,\n",
    "        \"Name\": \"Alice Springs\",\n",
    "        \"State\": \"n/a\",\n",
    "        \"timezone\": 'Australia/North',\n",
    "        \"gcr\": 0.3,\n",
    "        \"tempco\": -0.005,\n",
    "        \"mounting\": ['Fixed','Single-Axis'][0],\n",
    "        \"azimuth\": 0,\n",
    "        \"tilt\": 20,\n",
    "        \"pdc\": 5100.0,\n",
    "        \"temp_model\": 'open_rack_cell_polymerback'}"
   ]
  },
  {
   "cell_type": "markdown",
   "metadata": {},
   "source": [
    "# 1. <b>Standardize</b>\n",
    "\n",
    "Please download the site data from Site 12, and unzip the csv file in the folder:\n",
    "./rdtools/docs/\n",
    "\n",
    "http://dkasolarcentre.com.au/historical-data/download\n",
    "\n",
    "The following script loads the data, parses a pandas.DateTimeIndex, and renames the critical columns.\n",
    "\n",
    "The irradiance sensor data source is transposed to plane-of-array, and the temperature sensor data source is converted into estimated cell temperature.\n",
    "\n",
    "The standardized `pandas.DataFrame` must contain the following column names:\n",
    "* 'power', PV system power production in W or Wh\n",
    "* 'poa', plane-of-array irradiance in W/m2\n",
    "* 'Tamb', ambient temperature in degrees Celcius\n",
    "* 'wind', [Optional] wind speed in m/s\n"
   ]
  },
  {
   "cell_type": "code",
   "execution_count": null,
   "metadata": {
    "collapsed": false
   },
   "outputs": [],
   "source": [
    "file_name = '84-Site_12-BP-Solar.csv'\n",
    "\n",
    "df = pd.read_csv(file_name)\n",
    "df = df.rename(columns = {\n",
    "    '12 BP Solar - Active Power (kW)':'power',\n",
    "    '12 BP Solar - Wind Speed (m/s)': 'wind',\n",
    "    '12 BP Solar - Weather Temperature Celsius (\\xc2\\xb0C)': 'Tamb',\n",
    "    '12 BP Solar - Global Horizontal Radiation (W/m\\xc2\\xb2)': 'ghi',\n",
    "    '12 BP Solar - Diffuse Horizontal Radiation (W/m\\xc2\\xb2)': 'dhi'\n",
    "})\n",
    "\n",
    "\n",
    "\n",
    "df.index = pd.to_datetime(df.Timestamp)\n",
    "df.index = df.index.tz_localize(meta['timezone']) # TZ is required for irradiance transposition\n",
    "\n",
    "\n",
    "# Chage power to watts\n",
    "df['power'] = df.power * 1000.0 \n",
    "# There is some missing data, but we can infer the frequency from the first several data points\n",
    "freq = pd.infer_freq(df.index[:10])\n",
    "\n",
    "# And then set the frequency of the dataframe\n",
    "df = df.resample(freq).asfreq()\n",
    "\n",
    "# Calculate energy yield in kWh\n",
    "df['energy'] = df.power * pd.to_timedelta(df.power.index.freq).total_seconds()/(3600.0)\n",
    "\n",
    "#generate POA irradiance from DHI, GHI inputs\n",
    "loc = pvlib.location.Location(meta['latitude'], meta['longitude'], tz = meta['timezone'])\n",
    "sun = loc.get_solarposition(df.index)\n",
    "\n",
    "if meta['mounting'] == 'Single-Axis':    \n",
    "    tr = pvlib.tracking.singleaxis(sun['apparent_zenith'],sun['azimuth'],\n",
    "                                       meta['tilt'], meta['azimuth'], max_angle=45, backtrack=True, gcr=meta['gcr'])\n",
    "    tilt = tr['surface_tilt']\n",
    "    azimuth = tr['surface_azimuth']\n",
    "else:\n",
    "    tilt = meta['tilt']\n",
    "    azimuth = meta['azimuth']\n",
    "\n",
    "# calculate the POA irradiance\n",
    "sky = pvlib.irradiance.isotropic(tilt, df.dhi)\n",
    "df['dni'] = (df.ghi - df.dhi)/np.cos(np.deg2rad(sun.zenith))\n",
    "beam = pvlib.irradiance.beam_component(tilt, azimuth, sun.zenith, sun.azimuth, df.dni)\n",
    "df['poa'] = beam + sky\n",
    "\n",
    "# Calculate temperature\n",
    "df_temp = pvlib.pvsystem.sapm_celltemp(df.poa, df.wind, df.Tamb, model = meta['temp_model'])\n",
    "df['Tcell'] = df_temp.temp_cell\n",
    "\n",
    "\n",
    "\n",
    "# plot the AC power time series\n",
    "fig, ax = plt.subplots()\n",
    "ax.plot(df.index, df.power, 'o', alpha = 0.01)\n",
    "ax.set_ylim(0,7000)\n",
    "fig.autofmt_xdate()\n",
    "ax.set_ylabel('AC Power (W)');\n",
    "\n",
    "\n",
    "\n"
   ]
  },
  {
   "cell_type": "markdown",
   "metadata": {
    "collapsed": false
   },
   "source": [
    "# 2. <b>Normalize</b> \n",
    "\n",
    "Data normalization typically requires some additional metadata about the PV system power time series.  Metadata consists of site location information, module product details, PV circuit configuration, and other items."
   ]
  },
  {
   "cell_type": "code",
   "execution_count": null,
   "metadata": {
    "collapsed": false
   },
   "outputs": [],
   "source": [
    "#PVWatts normalization with sensors\n",
    "\n",
    "pvwatts_kws = {\"poa_global\" : df.poa,\n",
    "              \"P_ref\" : meta['pdc'],\n",
    "              \"T_cell\" :df.Tcell,\n",
    "              \"G_ref\" : 1000,\n",
    "              \"T_ref\": 25,\n",
    "              \"gamma_pdc\" : meta['tempco']}\n",
    "\n",
    "normalized, insolation = rdtools.normalize_with_pvwatts(df.energy, pvwatts_kws)\n",
    "\n",
    "df['normalized'] = normalized\n",
    "df['insolation'] = insolation\n",
    "\n",
    "\n",
    "\n",
    "#PVWatts normalization with clear sky models\n",
    "\n",
    "loc = pvlib.location.Location(meta['latitude'], meta['longitude'], tz = meta['timezone'])\n",
    "sun = loc.get_solarposition(df.index)\n",
    "\n",
    "if meta['mounting'] == 'Single-Axis':    \n",
    "    tr = pvlib.tracking.singleaxis(sun['apparent_zenith'],sun['azimuth'],\n",
    "                                       meta['tilt'], meta['azimuth'], max_angle=45, backtrack=True, gcr=meta['gcr'])\n",
    "    tilt = tr['surface_tilt']\n",
    "    azimuth = tr['surface_azimuth']\n",
    "else:\n",
    "    tilt = meta['tilt']\n",
    "    azimuth = meta['azimuth']\n",
    "\n",
    "# Calculate the clear sky POA irradiance\n",
    "clearsky = loc.get_clearsky(df.index, solar_position = sun)\n",
    "cs_sky = pvlib.irradiance.isotropic(tilt, clearsky.dhi)\n",
    "cs_beam = pvlib.irradiance.beam_component(tilt, azimuth, sun.zenith, sun.azimuth, clearsky.dni)\n",
    "df['clearsky_poa'] = cs_beam + cs_sky\n",
    "\n",
    "# Calculate the clearsky temperature\n",
    "df['clearsky_Tamb'] = rdtools.get_clearsky_tamb(df.index, meta['latitude'], meta['longitude'], meta['timezone'])\n",
    "df_clearsky_temp = pvlib.pvsystem.sapm_celltemp(df.clearsky_poa, 0, df.clearsky_Tamb, model = meta['temp_model'])\n",
    "df['clearsky_Tcell'] = df_clearsky_temp.temp_cell\n",
    "\n",
    "\n",
    "\n",
    "clearsky_pvwatts_kws = {\"poa_global\" : df.clearsky_poa,\n",
    "              \"P_ref\" : meta['pdc'],\n",
    "              \"T_cell\" :df.clearsky_Tcell,\n",
    "              \"G_ref\" : 1000,\n",
    "              \"T_ref\": 25,\n",
    "              \"gamma_pdc\" : meta['tempco']}\n",
    "\n",
    "clearsky_normalized, clearsky_insolation = rdtools.normalize_with_pvwatts(df.energy, clearsky_pvwatts_kws)\n",
    "\n",
    "df['clearsky_normalized'] = clearsky_normalized\n",
    "df['clearsky_insolation'] = clearsky_insolation\n",
    "\n",
    "\n",
    "df.to_csv(r\"inspect_fx.csv\")\n",
    "\n",
    "# Plot the normalized power time series\n",
    "fig, ax = plt.subplots()\n",
    "ax.plot(normalized.index, normalized, 'o', alpha = 0.05)\n",
    "ax.set_ylim(0,7)\n",
    "fig.autofmt_xdate()\n",
    "ax.set_ylabel('Normalized power');\n",
    "\n",
    "fig, ax = plt.subplots()\n",
    "ax.plot(clearsky_normalized.index, clearsky_normalized, 'o', alpha = 0.05)\n",
    "ax.set_ylim(0,7)\n",
    "fig.autofmt_xdate()\n",
    "ax.set_ylabel('Normalized power');"
   ]
  },
  {
   "cell_type": "markdown",
   "metadata": {},
   "source": [
    "# 3. <b>Filter</b> \n",
    "\n",
    "Data filtering is used to exclude data points that represent invalid data, create bias in the analysis, or introduce significant noise.\n"
   ]
  },
  {
   "cell_type": "code",
   "execution_count": null,
   "metadata": {
    "collapsed": false
   },
   "outputs": [],
   "source": [
    "# Perform rudimetary filtering, more advanced filtering will be integrated\n",
    "# into Rdtools in the future\n",
    "filter_criteria = ((df['normalized']>0) & (df.poa>200) & (df.poa<1200))\n",
    "\n",
    "filtered = df[filter_criteria]\n",
    "filtered = filtered[['insolation', 'normalized']]\n",
    "\n",
    "# Perform clearsky filter\n",
    "csi_mask = rdtools.csi_filter(df.insolation, df.clearsky_insolation)\n",
    "clearsky_filtered = df[(df['clearsky_normalized']>0) & (df.poa>200) & (df.poa<1200) & csi_mask]\n",
    "\n",
    "# Plot the normalized and filtered power time series\n",
    "fig, ax = plt.subplots()\n",
    "ax.plot(normalized.index, normalized, 'o', alpha = 0.05)\n",
    "ax.plot(filtered.index, filtered.normalized, 'o', alpha = 0.05)\n",
    "ax.set_ylim(0,2.4)\n",
    "fig.autofmt_xdate()\n",
    "ax.set_ylabel('Normalized power');\n",
    "\n",
    "# Plot the clearsky filtered power time series\n",
    "fig, ax = plt.subplots()\n",
    "ax.plot(clearsky_filtered.index, clearsky_filtered.normalized, 'o', alpha = 0.05)\n",
    "ax.set_ylim(0,2.4)\n",
    "fig.autofmt_xdate()\n",
    "ax.set_ylabel('Normalized power');"
   ]
  },
  {
   "cell_type": "markdown",
   "metadata": {},
   "source": [
    "# 4. <b>Aggregate</b>\n",
    "\n",
    "Data is aggregated with an irradiance weighted average. This can be useful, for example with daily aggregation, to reduce the impact of high-error data points in the morning and evening."
   ]
  },
  {
   "cell_type": "code",
   "execution_count": null,
   "metadata": {
    "collapsed": false
   },
   "outputs": [],
   "source": [
    "daily = rdtools.aggregation_insol(filtered.normalized, filtered.insolation)\n",
    "\n",
    "clearsky_daily = rdtools.aggregation_insol(clearsky_filtered.normalized, clearsky_filtered.insolation)\n",
    "\n",
    "# Plot the normalized and filtered power time series along with the aggregation\n",
    "fig, ax = plt.subplots()\n",
    "ax.plot(filtered.index, filtered.normalized, 'o', alpha = 0.05)\n",
    "ax.plot(daily.index, daily, 'o', alpha = 0.1)\n",
    "ax.set_ylim(0,2.4)\n",
    "fig.autofmt_xdate()\n",
    "ax.set_ylabel('Normalized power');\n",
    "\n",
    "# Plot the clearsky normalized and filtered power time series along with the aggregation\n",
    "fig, ax = plt.subplots()\n",
    "ax.plot(clearsky_filtered.index, clearsky_filtered.normalized, 'o', alpha = 0.05)\n",
    "ax.plot(clearsky_daily.index, clearsky_daily, 'o', alpha = 0.1)\n",
    "ax.set_ylim(0,2.4)\n",
    "fig.autofmt_xdate()\n",
    "ax.set_ylabel('Normalized power');"
   ]
  },
  {
   "cell_type": "markdown",
   "metadata": {},
   "source": [
    "# 5. <b>Degradation calculation</b>\n",
    "\n",
    "Data is then analyzed to estimate the degradation rate representing the PV system behavior.\n"
   ]
  },
  {
   "cell_type": "code",
   "execution_count": null,
   "metadata": {
    "collapsed": false
   },
   "outputs": [],
   "source": [
    "ols_rd, ols_ci, ols_info = rdtools.degradation_ols(daily)\n",
    "print '''The degradation rate calculated with ols is %0.2f %%/year\n",
    "with a confidence interval of %0.2f to %0.2f %%/year\n",
    "''' % (ols_rd, ols_ci[0], ols_ci[1])\n",
    "\n",
    "yoy_rd, yoy_ci, yoy_info = rdtools.degradation_year_on_year(daily)\n",
    "print '''The degradation rate calculated with year on year is %0.2f %%/year\n",
    "with a confidence interval of %0.2f to %0.2f %%/year\n",
    "''' % (yoy_rd, yoy_ci[0], yoy_ci[1])"
   ]
  },
  {
   "cell_type": "code",
   "execution_count": null,
   "metadata": {
    "collapsed": false
   },
   "outputs": [],
   "source": [
    "# Clearsky degradation\n",
    "cs_ols_rd, cs_ols_ci, cs_ols_info = rdtools.degradation_ols(clearsky_daily)\n",
    "print '''The degradation rate calculated with ols is %0.2f %%/year\n",
    "with a confidence interval of %0.2f to %0.2f %%/year\n",
    "''' % (cs_ols_rd, cs_ols_ci[0], cs_ols_ci[1])\n",
    "\n",
    "cs_yoy_rd, cs_yoy_ci, cs_yoy_info = rdtools.degradation_year_on_year(clearsky_daily)\n",
    "print '''The degradation rate calculated with year on year is %0.2f %%/year\n",
    "with a confidence interval of %0.2f to %0.2f %%/year\n",
    "''' % (cs_yoy_rd, cs_yoy_ci[0], cs_yoy_ci[1])"
   ]
  },
  {
   "cell_type": "code",
   "execution_count": null,
   "metadata": {
    "collapsed": false
   },
   "outputs": [],
   "source": [
    "# plot the regression through the normalized data \n",
    "fig, ax = plt.subplots()\n",
    "ax.plot(daily.index, daily, 'o', alpha = 0.1)\n",
    "x_vals = np.array(ax.get_xlim())\n",
    "y_vals = ols_info['intercept'] + ols_info['slope'] * (x_vals-min(x_vals)) / 365\n",
    "ax.plot(x_vals, y_vals, '--k')\n",
    "ax.set_ylim(0,1.4)\n",
    "fig.autofmt_xdate()\n",
    "ax.set_ylabel('Normalized power');\n",
    "\n",
    "# plot the clearsky regression through the normalized data \n",
    "fig, ax = plt.subplots()\n",
    "ax.plot(clearsky_daily.index, clearsky_daily, 'o', alpha = 0.1)\n",
    "x_vals = np.array(ax.get_xlim())\n",
    "y_vals = cs_ols_info['intercept'] + cs_ols_info['slope'] * (x_vals-min(x_vals)) / 365\n",
    "ax.plot(x_vals, y_vals, '--k')\n",
    "ax.set_ylim(0,1.4)\n",
    "fig.autofmt_xdate()\n",
    "ax.set_ylabel('Normalized power');"
   ]
  },
  {
   "cell_type": "code",
   "execution_count": null,
   "metadata": {
    "collapsed": false
   },
   "outputs": [],
   "source": [
    "# Plot the year-on-year distribution\n",
    "# Note that the uncertainty is from bootstrapping the median\n",
    "# not the standard deviation of the plotted distribution\n",
    "fig, ax = plt.subplots()\n",
    "yoy_values = yoy_info['YoY_values']\n",
    "plt.hist(yoy_values, alpha=0.5, label='YOY', bins=int(yoy_values.__len__()/20))\n",
    "plt.axvline(x=yoy_rd, color='black', linestyle='dashed', linewidth=3)\n",
    "#plt.legend(loc='upper right')\n",
    "plt.title('Year-on-Year Distribution, Sensor')   \n",
    "plt.tight_layout(w_pad=1, h_pad=2.0)\n",
    "plt.xlabel('Annual degradation (%)');\n",
    "plt.xlim([-30,30])\n",
    "\n",
    "# Plot the clearsky year-on-year distribution\n",
    "# Note that the uncertainty is from bootstrapping the median\n",
    "# not the standard deviation of the plotted distribution\n",
    "fig, ax = plt.subplots()\n",
    "cs_yoy_values = cs_yoy_info['YoY_values']\n",
    "plt.hist(cs_yoy_values, alpha=0.5, label='YOY', bins=int(cs_yoy_values.__len__()/20))\n",
    "plt.axvline(x=cs_yoy_rd, color='black', linestyle='dashed', linewidth=3)\n",
    "#plt.legend(loc='upper right')\n",
    "plt.title('Year-on-Year Distribution, Clear Sky')   \n",
    "plt.tight_layout(w_pad=1, h_pad=2.0)\n",
    "plt.xlabel('Annual degradation (%)');\n",
    "plt.xlim([-30,30])"
   ]
  },
  {
   "cell_type": "code",
   "execution_count": null,
   "metadata": {
    "collapsed": true
   },
   "outputs": [],
   "source": []
  },
  {
   "cell_type": "code",
   "execution_count": null,
   "metadata": {
    "collapsed": true
   },
   "outputs": [],
   "source": []
  }
 ],
 "metadata": {
  "anaconda-cloud": {},
  "kernelspec": {
   "display_name": "Python Degradation",
   "language": "python",
   "name": "python degradation"
  },
  "language_info": {
   "codemirror_mode": {
    "name": "ipython",
    "version": 2
   },
   "file_extension": ".py",
   "mimetype": "text/x-python",
   "name": "python",
   "nbconvert_exporter": "python",
   "pygments_lexer": "ipython2",
   "version": "2.7.12"
  }
 },
 "nbformat": 4,
 "nbformat_minor": 0
}
